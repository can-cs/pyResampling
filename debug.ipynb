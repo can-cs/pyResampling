{
 "metadata": {
  "name": ""
 },
 "nbformat": 3,
 "nbformat_minor": 0,
 "worksheets": [
  {
   "cells": [
    {
     "cell_type": "code",
     "collapsed": false,
     "input": [
      "%load_ext autoreload\n",
      "%autoreload 2\n",
      "import src.cyResampling as cyR\n",
      "import src.pyResampling as pyR\n",
      "import src.weaveResampling as weR\n",
      "\n",
      "N = 1000\n",
      "w = random.uniform(size=N)\n",
      "#w = ones(N)\n",
      "w /= sum(w)\n",
      "\n",
      "# Multinomial test\n",
      "print 'Multinomial:'\n",
      "print 'Weave'\n",
      "%timeit weR.resampleMultinomial(w)\n",
      "print 'Python'\n",
      "%timeit pyR.resampling(w, 'mult')\n",
      "print 'Cython'\n",
      "%timeit cyR.resampling(w, 'multinomial')\n",
      "\n",
      "print '\\n'\n",
      "\n",
      "# Residual test\n",
      "print 'Residual:'\n",
      "print 'Python'\n",
      "%timeit pyR.resampling(w, 'res')\n",
      "print 'Cython'\n",
      "%timeit cyR.resampling(w, 'residual')\n",
      "\n",
      "print '\\n'\n",
      "\n",
      "# Stratified test\n",
      "print 'Stratified:'\n",
      "print 'Weave'\n",
      "%timeit weR.resampleStratified(w)\n",
      "print 'Python'\n",
      "%timeit pyR.resampling(w, 'strat')\n",
      "print 'Cython'\n",
      "%timeit cyR.resampling(w, 'stratified')\n",
      "\n",
      "print '\\n'\n",
      "\n",
      "# Systematic test\n",
      "print 'Systematic:'\n",
      "print 'Weave'\n",
      "%timeit weR.resampleSystematic(w)\n",
      "print 'Python'\n",
      "%timeit pyR.resampling(w, 'sys')\n",
      "print 'Cython'\n",
      "%timeit cyR.resampling(w, 'systematic')"
     ],
     "language": "python",
     "metadata": {},
     "outputs": [
      {
       "output_type": "stream",
       "stream": "stdout",
       "text": [
        "Multinomial:\n",
        "Weave\n",
        "1000 loops, best of 3: 594 \u00b5s per loop"
       ]
      },
      {
       "output_type": "stream",
       "stream": "stdout",
       "text": [
        "\n",
        "Python\n",
        "1000 loops, best of 3: 397 \u00b5s per loop"
       ]
      },
      {
       "output_type": "stream",
       "stream": "stdout",
       "text": [
        "\n",
        "Cython\n",
        "1000 loops, best of 3: 394 \u00b5s per loop"
       ]
      },
      {
       "output_type": "stream",
       "stream": "stdout",
       "text": [
        "\n",
        "\n",
        "\n",
        "Residual:\n",
        "Python\n",
        "100 loops, best of 3: 5.19 ms per loop"
       ]
      },
      {
       "output_type": "stream",
       "stream": "stdout",
       "text": [
        "\n",
        "Cython\n",
        "1000 loops, best of 3: 794 \u00b5s per loop"
       ]
      },
      {
       "output_type": "stream",
       "stream": "stdout",
       "text": [
        "\n",
        "\n",
        "\n",
        "Stratified:\n",
        "Weave\n",
        "10000 loops, best of 3: 69.8 \u00b5s per loop"
       ]
      },
      {
       "output_type": "stream",
       "stream": "stdout",
       "text": [
        "\n",
        "Python\n",
        "1000 loops, best of 3: 391 \u00b5s per loop"
       ]
      },
      {
       "output_type": "stream",
       "stream": "stdout",
       "text": [
        "\n",
        "Cython\n",
        "10000 loops, best of 3: 71.1 \u00b5s per loop"
       ]
      },
      {
       "output_type": "stream",
       "stream": "stdout",
       "text": [
        "\n",
        "\n",
        "\n",
        "Systematic:\n",
        "Weave\n",
        "10000 loops, best of 3: 46.6 \u00b5s per loop"
       ]
      },
      {
       "output_type": "stream",
       "stream": "stdout",
       "text": [
        "\n",
        "Python\n",
        "1000 loops, best of 3: 797 \u00b5s per loop"
       ]
      },
      {
       "output_type": "stream",
       "stream": "stdout",
       "text": [
        "\n",
        "Cython\n",
        "10000 loops, best of 3: 54.1 \u00b5s per loop"
       ]
      },
      {
       "output_type": "stream",
       "stream": "stdout",
       "text": [
        "\n"
       ]
      }
     ],
     "prompt_number": 1
    },
    {
     "cell_type": "code",
     "collapsed": false,
     "input": [],
     "language": "python",
     "metadata": {},
     "outputs": []
    },
    {
     "cell_type": "code",
     "collapsed": false,
     "input": [],
     "language": "python",
     "metadata": {},
     "outputs": [],
     "prompt_number": 3
    },
    {
     "cell_type": "code",
     "collapsed": false,
     "input": [],
     "language": "python",
     "metadata": {},
     "outputs": [],
     "prompt_number": 1
    },
    {
     "cell_type": "code",
     "collapsed": false,
     "input": [],
     "language": "python",
     "metadata": {},
     "outputs": []
    }
   ],
   "metadata": {}
  }
 ]
}