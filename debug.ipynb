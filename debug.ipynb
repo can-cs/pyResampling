{
 "metadata": {
  "name": ""
 },
 "nbformat": 3,
 "nbformat_minor": 0,
 "worksheets": [
  {
   "cells": [
    {
     "cell_type": "code",
     "collapsed": false,
     "input": [
      "%load_ext autoreload\n",
      "%load_ext line_profiler\n",
      "%autoreload 2\n",
      "import src.cyResampling as cyR\n",
      "import src.pyResampling as pyR\n",
      "import src.weaveResampling as weR\n",
      "\n",
      "N = 10000\n",
      "w = random.uniform(size=N)\n",
      "#w = ones(N)\n",
      "w /= sum(w)"
     ],
     "language": "python",
     "metadata": {},
     "outputs": [
      {
       "output_type": "stream",
       "stream": "stdout",
       "text": [
        "The autoreload extension is already loaded. To reload it, use:\n",
        "  %reload_ext autoreload\n",
        "The line_profiler extension is already loaded. To reload it, use:\n",
        "  %reload_ext line_profiler\n"
       ]
      }
     ],
     "prompt_number": 3
    },
    {
     "cell_type": "code",
     "collapsed": false,
     "input": [
      "# Multinomial test\n",
      "print 'Multinomial:'\n",
      "print 'Weave'\n",
      "%timeit weR.resampleMultinomial(w)\n",
      "print 'Python'\n",
      "%timeit pyR.resampling(w, 'mult')\n",
      "print 'Cython'\n",
      "%timeit cyR.resampling(w, 'multinomial')\n",
      "\n",
      "print '\\n'\n",
      "\n",
      "# Residual test\n",
      "print 'Residual:'\n",
      "print 'Python'\n",
      "%timeit pyR.resampling(w, 'res')\n",
      "print 'Cython'\n",
      "%timeit cyR.resampling(w, 'residual')\n",
      "\n",
      "print '\\n'\n",
      "\n",
      "# Stratified test\n",
      "print 'Stratified:'\n",
      "print 'Weave'\n",
      "%timeit weR.resampleStratified(w)\n",
      "print 'Python'\n",
      "%timeit pyR.resampling(w, 'strat')\n",
      "print 'Cython'\n",
      "%timeit cyR.resampling(w, 'stratified')\n",
      "\n",
      "print '\\n'\n",
      "\n",
      "# Systematic test\n",
      "print 'Systematic:'\n",
      "print 'Weave'\n",
      "%timeit weR.resampleSystematic(w)\n",
      "print 'Python'\n",
      "%timeit pyR.resampling(w, 'sys')\n",
      "print 'Cython'\n",
      "%timeit cyR.resampling(w, 'systematic')"
     ],
     "language": "python",
     "metadata": {},
     "outputs": [
      {
       "output_type": "stream",
       "stream": "stdout",
       "text": [
        "Multinomial:\n",
        "Weave\n",
        "10 loops, best of 3: 34.5 ms per loop"
       ]
      },
      {
       "output_type": "stream",
       "stream": "stdout",
       "text": [
        "\n",
        "Python\n",
        "100 loops, best of 3: 19.7 ms per loop"
       ]
      },
      {
       "output_type": "stream",
       "stream": "stdout",
       "text": [
        "\n",
        "Cython\n",
        "100 loops, best of 3: 19.8 ms per loop"
       ]
      },
      {
       "output_type": "stream",
       "stream": "stdout",
       "text": [
        "\n",
        "\n",
        "\n",
        "Residual:\n",
        "Python\n",
        "10 loops, best of 3: 22.9 ms per loop"
       ]
      },
      {
       "output_type": "stream",
       "stream": "stdout",
       "text": [
        "\n",
        "Cython\n",
        "100 loops, best of 3: 3.62 ms per loop"
       ]
      },
      {
       "output_type": "stream",
       "stream": "stdout",
       "text": [
        "\n",
        "\n",
        "\n",
        "Stratified:\n",
        "Weave\n",
        "1000 loops, best of 3: 320 \u00b5s per loop"
       ]
      },
      {
       "output_type": "stream",
       "stream": "stdout",
       "text": [
        "\n",
        "Python\n",
        "10 loops, best of 3: 19.7 ms per loop"
       ]
      },
      {
       "output_type": "stream",
       "stream": "stdout",
       "text": [
        "\n",
        "Cython\n",
        "1000 loops, best of 3: 287 \u00b5s per loop"
       ]
      },
      {
       "output_type": "stream",
       "stream": "stdout",
       "text": [
        "\n",
        "\n",
        "\n",
        "Systematic:\n",
        "Weave\n",
        "10000 loops, best of 3: 189 \u00b5s per loop"
       ]
      },
      {
       "output_type": "stream",
       "stream": "stdout",
       "text": [
        "\n",
        "Python\n",
        "100 loops, best of 3: 4.32 ms per loop"
       ]
      },
      {
       "output_type": "stream",
       "stream": "stdout",
       "text": [
        "\n",
        "Cython\n",
        "10000 loops, best of 3: 172 \u00b5s per loop"
       ]
      },
      {
       "output_type": "stream",
       "stream": "stdout",
       "text": [
        "\n"
       ]
      }
     ],
     "prompt_number": 4
    },
    {
     "cell_type": "code",
     "collapsed": false,
     "input": [
      "K = 20000\n",
      "avg_temp = zeros((K,N))\n",
      "for k in range(K):\n",
      "    avg_temp[k,:] = np.bincount(cyR.resampling(w, 'multinomial'), minlength=N)\n",
      "avg = np.sum(avg_temp, axis=0)/N/K"
     ],
     "language": "python",
     "metadata": {},
     "outputs": [],
     "prompt_number": 19
    },
    {
     "cell_type": "code",
     "collapsed": false,
     "input": [
      "print sum(abs(avg-w))"
     ],
     "language": "python",
     "metadata": {},
     "outputs": [
      {
       "output_type": "stream",
       "stream": "stdout",
       "text": [
        "0.0056347\n"
       ]
      }
     ],
     "prompt_number": 20
    },
    {
     "cell_type": "code",
     "collapsed": false,
     "input": [
      "%lprun -f pyR.resampling pyR.resampling(w, 'sys')"
     ],
     "language": "python",
     "metadata": {},
     "outputs": [],
     "prompt_number": 21
    },
    {
     "cell_type": "code",
     "collapsed": false,
     "input": [
      "%lprun -f weR.resampleStratified weR.resampleStratified(w)"
     ],
     "language": "python",
     "metadata": {},
     "outputs": [],
     "prompt_number": 17
    },
    {
     "cell_type": "code",
     "collapsed": false,
     "input": [
      "2/10000."
     ],
     "language": "python",
     "metadata": {},
     "outputs": [
      {
       "metadata": {},
       "output_type": "pyout",
       "prompt_number": 31,
       "text": [
        "0.0002"
       ]
      }
     ],
     "prompt_number": 31
    },
    {
     "cell_type": "code",
     "collapsed": false,
     "input": [
      "np.sum(avg,axis=0)/N/K"
     ],
     "language": "python",
     "metadata": {},
     "outputs": [
      {
       "metadata": {},
       "output_type": "pyout",
       "prompt_number": 34,
       "text": [
        "array([  2.76000000e-05,   4.96000000e-05,   1.67400000e-04, ...,\n",
        "         1.46500000e-04,   6.94000000e-05,   1.26400000e-04])"
       ]
      }
     ],
     "prompt_number": 34
    },
    {
     "cell_type": "code",
     "collapsed": false,
     "input": [],
     "language": "python",
     "metadata": {},
     "outputs": []
    }
   ],
   "metadata": {}
  }
 ]
}