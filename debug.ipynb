{
 "metadata": {
  "name": ""
 },
 "nbformat": 3,
 "nbformat_minor": 0,
 "worksheets": [
  {
   "cells": [
    {
     "cell_type": "code",
     "collapsed": false,
     "input": [
      "%load_ext autoreload\n",
      "%autoreload 2\n",
      "import src.cyResampling as cyR\n",
      "import src.pyResampling as pyR\n",
      "import src.weaveResampling as weR\n",
      "\n",
      "N = 1000\n",
      "w = random.uniform(size=N)\n",
      "#w = ones(N)\n",
      "w /= sum(w)"
     ],
     "language": "python",
     "metadata": {},
     "outputs": [],
     "prompt_number": 1
    },
    {
     "cell_type": "code",
     "collapsed": false,
     "input": [
      "# Multinomial test\n",
      "print 'Multinomial:'\n",
      "print 'Weave'\n",
      "%timeit weR.resampleMultinomial(w)\n",
      "print 'Python'\n",
      "%timeit pyR.resampling(w, 'mult')\n",
      "print 'Cython'\n",
      "%timeit cyR.resampling(w, 'multinomial')\n",
      "\n",
      "print '\\n'\n",
      "\n",
      "# Residual test\n",
      "print 'Residual:'\n",
      "print 'Python'\n",
      "%timeit pyR.resampling(w, 'res')\n",
      "print 'Cython'\n",
      "%timeit cyR.resampling(w, 'residual')\n",
      "\n",
      "print '\\n'\n",
      "\n",
      "# Stratified test\n",
      "print 'Stratified:'\n",
      "print 'Weave'\n",
      "%timeit weR.resampleStratified(w)\n",
      "print 'Python'\n",
      "%timeit pyR.resampling(w, 'strat')\n",
      "print 'Cython'\n",
      "%timeit cyR.resampling(w, 'stratified')\n",
      "\n",
      "print '\\n'\n",
      "\n",
      "# Systematic test\n",
      "print 'Systematic:'\n",
      "print 'Weave'\n",
      "%timeit weR.resampleSystematic(w)\n",
      "print 'Python'\n",
      "%timeit pyR.resampling(w, 'sys')\n",
      "print 'Cython'\n",
      "%timeit cyR.resampling(w, 'systematic')"
     ],
     "language": "python",
     "metadata": {},
     "outputs": [
      {
       "output_type": "stream",
       "stream": "stdout",
       "text": [
        "Multinomial:\n",
        "Weave\n",
        "1000 loops, best of 3: 385 \u00b5s per loop"
       ]
      },
      {
       "output_type": "stream",
       "stream": "stdout",
       "text": [
        "\n",
        "Python\n",
        "1000 loops, best of 3: 256 \u00b5s per loop"
       ]
      },
      {
       "output_type": "stream",
       "stream": "stdout",
       "text": [
        "\n",
        "Cython\n",
        "1000 loops, best of 3: 269 \u00b5s per loop"
       ]
      },
      {
       "output_type": "stream",
       "stream": "stdout",
       "text": [
        "\n",
        "\n",
        "\n",
        "Residual:\n",
        "Python\n",
        "100 loops, best of 3: 3.47 ms per loop"
       ]
      },
      {
       "output_type": "stream",
       "stream": "stdout",
       "text": [
        "\n",
        "Cython\n",
        "1000 loops, best of 3: 504 \u00b5s per loop"
       ]
      },
      {
       "output_type": "stream",
       "stream": "stdout",
       "text": [
        "\n",
        "\n",
        "\n",
        "Stratified:\n",
        "Weave\n",
        "10000 loops, best of 3: 45.4 \u00b5s per loop"
       ]
      },
      {
       "output_type": "stream",
       "stream": "stdout",
       "text": [
        "\n",
        "Python\n",
        "1000 loops, best of 3: 252 \u00b5s per loop"
       ]
      },
      {
       "output_type": "stream",
       "stream": "stdout",
       "text": [
        "\n",
        "Cython\n",
        "1000 loops, best of 3: 262 \u00b5s per loop"
       ]
      },
      {
       "output_type": "stream",
       "stream": "stdout",
       "text": [
        "\n",
        "\n",
        "\n",
        "Systematic:\n",
        "Weave\n",
        "10000 loops, best of 3: 29.7 \u00b5s per loop"
       ]
      },
      {
       "output_type": "stream",
       "stream": "stdout",
       "text": [
        "\n",
        "Python\n",
        "1000 loops, best of 3: 503 \u00b5s per loop"
       ]
      },
      {
       "output_type": "stream",
       "stream": "stdout",
       "text": [
        "\n",
        "Cython\n",
        "1000 loops, best of 3: 255 \u00b5s per loop"
       ]
      },
      {
       "output_type": "stream",
       "stream": "stdout",
       "text": [
        "\n"
       ]
      }
     ],
     "prompt_number": 7
    },
    {
     "cell_type": "code",
     "collapsed": false,
     "input": [],
     "language": "python",
     "metadata": {},
     "outputs": [
      {
       "output_type": "stream",
       "stream": "stdout",
       "text": [
        "Weave\n",
        "1000 loops, best of 3: 350 \u00b5s per loop"
       ]
      },
      {
       "output_type": "stream",
       "stream": "stdout",
       "text": [
        "\n",
        "Python\n",
        "10 loops, best of 3: 21.8 ms per loop"
       ]
      },
      {
       "output_type": "stream",
       "stream": "stdout",
       "text": [
        "\n"
       ]
      }
     ],
     "prompt_number": 10
    },
    {
     "cell_type": "code",
     "collapsed": false,
     "input": [
      "hist(cyR.resampling(w, 'systematic'),bins=100)\n",
      "show()"
     ],
     "language": "python",
     "metadata": {},
     "outputs": [
      {
       "metadata": {},
       "output_type": "display_data",
       "png": "[encoded data removed]",
       "text": [
        "<matplotlib.figure.Figure at 0x7fafb5536250>"
       ]
      }
     ],
     "prompt_number": 6
    },
    {
     "cell_type": "code",
     "collapsed": false,
     "input": [
      "cyR.resampling(w, scheme='residual')"
     ],
     "language": "python",
     "metadata": {},
     "outputs": [
      {
       "metadata": {},
       "output_type": "pyout",
       "prompt_number": 2,
       "text": [
        "array([  0,   3,   3,   3,   4,   6,   8,  10,  11,  12,  13,  15,  18,\n",
        "        18,  18,  19,  20,  22,  23,  25,  26,  26,  26,  26,  26,  29,\n",
        "        30,  31,  31,  31,  32,  33,  35,  36,  36,  36,  37,  38,  39,\n",
        "        40,  42,  42,  43,  44,  45,  46,  47,  47,  48,  49,  50,  51,\n",
        "        52,  52,  53,  55,  55,  58,  59,  61,  64,  65,  66,  66,  67,\n",
        "        67,  68,  70,  71,  71,  72,  73,  74,  77,  77,  78,  79,  80,\n",
        "        82,  84,  85,  86,  87,  87,  87,  88,  90,  90,  92,  92,  92,\n",
        "        93,  93,  93,  94,  94,  96,  96,  98,  99, 101, 101, 102, 103,\n",
        "       104, 104, 105, 105, 106, 106, 106, 107, 108, 109, 110, 110, 112,\n",
        "       113, 114, 115, 116, 117, 121, 124, 126, 127, 130, 130, 131, 132,\n",
        "       133, 133, 134, 135, 137, 139, 139, 140, 140, 141, 142, 144, 152,\n",
        "       153, 154, 154, 155, 156, 157, 157, 158, 160, 161, 163, 163, 163,\n",
        "       164, 165, 165, 166, 166, 170, 171, 171, 172, 172, 173, 176, 178,\n",
        "       180, 181, 183, 184, 185, 185, 185, 187, 190, 190, 191, 192, 193,\n",
        "       194, 195, 196, 196, 199, 202, 203, 203, 204, 204, 206, 206, 208,\n",
        "       209, 210, 211, 211, 211, 212, 213, 214, 215, 215, 217, 218, 220,\n",
        "       222, 222, 223, 223, 224, 225, 226, 228, 229, 230, 231, 232, 233,\n",
        "       234, 235, 237, 238, 238, 239, 240, 240, 241, 242, 242, 242, 243,\n",
        "       244, 245, 245, 246, 246, 247, 247, 248, 248, 249, 250, 253, 254,\n",
        "       254, 256, 256, 256, 256, 257, 258, 259, 260, 260, 261, 263, 264,\n",
        "       266, 266, 267, 269, 269, 269, 270, 271, 273, 274, 275, 278, 278,\n",
        "       279, 279, 280, 281, 281, 281, 282, 283, 285, 288, 289, 290, 291,\n",
        "       292, 293, 293, 293, 293, 294, 296, 296, 297, 298, 301, 301, 302,\n",
        "       306, 306, 307, 308, 310, 310, 311, 314, 315, 316, 316, 317, 317,\n",
        "       317, 318, 318, 318, 319, 319, 320, 320, 321, 322, 322, 324, 324,\n",
        "       329, 330, 331, 331, 332, 333, 334, 335, 339, 339, 341, 341, 341,\n",
        "       341, 342, 342, 343, 345, 346, 347, 348, 348, 349, 349, 349, 351,\n",
        "       351, 353, 353, 354, 355, 357, 358, 359, 359, 359, 359, 359, 360,\n",
        "       361, 361, 362, 362, 364, 366, 367, 367, 370, 371, 373, 373, 373,\n",
        "       374, 375, 375, 376, 377, 378, 381, 383, 384, 386, 387, 388, 388,\n",
        "       389, 390, 391, 393, 393, 394, 395, 396, 397, 397, 397, 398, 399,\n",
        "       400, 400, 401, 402, 403, 404, 404, 405, 405, 408, 409, 410, 410,\n",
        "       410, 410, 411, 411, 412, 412, 414, 415, 417, 417, 418, 419, 420,\n",
        "       423, 424, 424, 425, 425, 426, 426, 427, 428, 429, 430, 431, 432,\n",
        "       432, 434, 435, 437, 437, 438, 439, 439, 440, 440, 441, 441, 442,\n",
        "       443, 443, 443, 445, 445, 445, 447, 448, 451, 451, 453, 454, 456,\n",
        "       462, 463, 464, 465, 465, 466, 467, 472, 472, 473, 473, 474, 475,\n",
        "       476, 476, 476, 477, 477, 478, 480, 481, 482, 483, 483, 485, 485,\n",
        "       486, 486, 488, 489, 490, 490, 491, 492, 492, 493, 494, 495, 495,\n",
        "       498, 498, 498, 499, 499, 500, 502, 503, 505, 505, 507, 510, 511,\n",
        "       511, 512, 514, 515, 515, 516, 517, 517, 517, 519, 520, 520, 521,\n",
        "       522, 524, 524, 526, 528, 528, 532, 533, 534, 535, 537, 538, 540,\n",
        "       540, 543, 544, 544, 546, 547, 547, 548, 548, 550, 550, 550, 551,\n",
        "       551, 552, 553, 553, 555, 555, 558, 559, 559, 559, 560, 561, 562,\n",
        "       563, 564, 564, 566, 567, 567, 567, 569, 570, 571, 571, 573, 575,\n",
        "       577, 578, 580, 580, 582, 583, 584, 585, 586, 587, 590, 591, 591,\n",
        "       591, 594, 594, 594, 595, 596, 600, 601, 603, 603, 604, 605, 607,\n",
        "       607, 610, 611, 612, 612, 613, 614, 615, 616, 619, 620, 620, 621,\n",
        "       621, 622, 623, 624, 626, 626, 628, 629, 630, 630, 632, 633, 634,\n",
        "       637, 637, 638, 639, 641, 642, 644, 645, 646, 647, 648, 651, 652,\n",
        "       652, 653, 654, 655, 656, 657, 657, 658, 658, 658, 659, 659, 659,\n",
        "       660, 661, 662, 663, 664, 665, 665, 667, 669, 670, 671, 673, 675,\n",
        "       676, 676, 679, 680, 682, 682, 683, 684, 686, 687, 687, 689, 690,\n",
        "       691, 695, 696, 697, 698, 700, 702, 702, 705, 706, 706, 707, 708,\n",
        "       708, 709, 712, 714, 715, 716, 716, 716, 717, 719, 720, 722, 723,\n",
        "       724, 724, 725, 725, 726, 727, 727, 727, 728, 728, 729, 731, 732,\n",
        "       733, 733, 733, 734, 735, 736, 737, 738, 740, 741, 743, 743, 743,\n",
        "       744, 746, 748, 749, 750, 750, 752, 753, 754, 754, 754, 755, 755,\n",
        "       756, 756, 756, 757, 758, 761, 761, 762, 763, 763, 768, 769, 769,\n",
        "       769, 770, 772, 772, 773, 775, 776, 777, 779, 779, 780, 781, 781,\n",
        "       782, 783, 784, 785, 785, 785, 787, 788, 788, 791, 792, 793, 793,\n",
        "       794, 795, 796, 798, 800, 800, 801, 801, 802, 802, 805, 806, 809,\n",
        "       810, 811, 812, 812, 815, 816, 817, 817, 820, 820, 824, 824, 825,\n",
        "       828, 830, 830, 832, 832, 833, 833, 833, 834, 834, 837, 837, 838,\n",
        "       839, 839, 840, 841, 841, 842, 843, 844, 845, 847, 847, 848, 849,\n",
        "       850, 851, 852, 854, 854, 854, 856, 856, 859, 859, 861, 863, 863,\n",
        "       863, 865, 866, 867, 868, 868, 868, 869, 869, 869, 869, 869, 870,\n",
        "       871, 871, 873, 873, 874, 876, 878, 879, 879, 880, 881, 883, 884,\n",
        "       885, 886, 887, 888, 889, 890, 891, 892, 893, 893, 896, 897, 898,\n",
        "       899, 899, 899, 900, 903, 905, 905, 905, 907, 908, 909, 911, 911,\n",
        "       912, 912, 913, 916, 916, 917, 917, 918, 919, 920, 921, 923, 926,\n",
        "       927, 930, 932, 933, 934, 934, 935, 935, 937, 938, 941, 942, 944,\n",
        "       945, 945, 946, 946, 947, 947, 950, 950, 951, 951, 952, 952, 953,\n",
        "       954, 954, 954, 955, 957, 957, 958, 958, 960, 961, 961, 962, 962,\n",
        "       962, 965, 966, 967, 968, 969, 969, 971, 971, 972, 972, 973, 975,\n",
        "       976, 977, 977, 978, 979, 980, 981, 982, 982, 983, 984, 985, 985,\n",
        "       986, 988, 989, 991, 994, 995, 996, 997, 998, 999, 999, 999])"
       ]
      }
     ],
     "prompt_number": 2
    },
    {
     "cell_type": "code",
     "collapsed": false,
     "input": [],
     "language": "python",
     "metadata": {},
     "outputs": [],
     "prompt_number": 3
    },
    {
     "cell_type": "code",
     "collapsed": false,
     "input": [
      "ind2 = np.arange(N)[np.digitize(U, bins)]"
     ],
     "language": "python",
     "metadata": {},
     "outputs": [],
     "prompt_number": 41
    },
    {
     "cell_type": "code",
     "collapsed": false,
     "input": [
      "sum(ind2 == ind)"
     ],
     "language": "python",
     "metadata": {},
     "outputs": [
      {
       "metadata": {},
       "output_type": "pyout",
       "prompt_number": 43,
       "text": [
        "100"
       ]
      }
     ],
     "prompt_number": 43
    },
    {
     "cell_type": "code",
     "collapsed": false,
     "input": [],
     "language": "python",
     "metadata": {},
     "outputs": []
    }
   ],
   "metadata": {}
  }
 ]
}